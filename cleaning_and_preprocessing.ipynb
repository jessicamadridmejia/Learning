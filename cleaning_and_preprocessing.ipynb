{
  "nbformat": 4,
  "nbformat_minor": 0,
  "metadata": {
    "colab": {
      "name": "cleaning-and-preprocessing.ipynb",
      "version": "0.3.2",
      "provenance": [],
      "collapsed_sections": [],
      "include_colab_link": true
    },
    "kernelspec": {
      "name": "python3",
      "display_name": "Python 3"
    }
  },
  "cells": [
    {
      "cell_type": "markdown",
      "metadata": {
        "id": "view-in-github",
        "colab_type": "text"
      },
      "source": [
        "<a href=\"https://colab.research.google.com/github/jessicamadridmejia/Learning/blob/master/cleaning_and_preprocessing.ipynb\" target=\"_parent\"><img src=\"https://colab.research.google.com/assets/colab-badge.svg\" alt=\"Open In Colab\"/></a>"
      ]
    },
    {
      "cell_type": "markdown",
      "metadata": {
        "id": "JtS-Jfu2TC_1",
        "colab_type": "text"
      },
      "source": [
        "(Source: https://towardsdatascience.com/the-complete-beginners-guide-to-data-cleaning-and-preprocessing-2070b7d4c6d)\n",
        "\n",
        "# The complete beginner’s guide to data cleaning and preprocessing\n",
        "*How to successfully prepare your data for a machine learning model in minutes*\n",
        "\n",
        "Data preprocessing is the first (and arguably most important) step toward building a working machine learning model. It’s critical!\n",
        "\n",
        "**If your data hasn’t been cleaned and preprocessed, your model does not work.**\n",
        "\n",
        "It’s that simple.\n",
        "\n",
        "Data preprocessing is generally thought of as the boring part. But it’s the difference between being prepared and being completely unprepared. It’s the difference between looking like a pro and looking pretty foolish.\n",
        "\n",
        "It’s kind of like getting ready for a vacation. You might not like the preparation part, but tightening down the details in advance can save you from one nightmare of a trip.\n",
        "\n",
        "You just have to do it or you can’t start having fun.\n",
        "\n",
        "But how do you do it?\n",
        "\n",
        "*This tutorial walks you through the basics of preparing any dataset for any machine learning model.*\n",
        "\n",
        "**Imports first!**\n",
        "\n",
        "We want to start by importing the libraries that you’ll need to preprocess your data. A library is really just a tool that you can use. You give the library the input, the library does its job, and it gives you the output you need. There are tons of libraries available, but three are essential libraries in Python. You’ll pretty much wind up using them every time. The three most popular libraries when you’re working with Python are **Numpy**, **Matplotlib**, and **Pandas**. Numpy is the library you’ll need for all things mathematical. Since your code is going to run on math, you’re going to use this one. Matplotlib (specifically Matplotlib.pyplot) is the library you’ll want if you’re going to make charts. Pandas is the best tool available for importing and managing datasets. Pandas and Numpy are basically essential for data preprocessing.\n",
        "\n",
        "It makes the most sense to import these libraries with a shortcut alias so that you can save a little time later. That’s simple and you can do it like this:"
      ]
    },
    {
      "cell_type": "code",
      "metadata": {
        "id": "CZFqCpqWTl66",
        "colab_type": "code",
        "colab": {}
      },
      "source": [
        "import numpy as np\n",
        "import matplotlib.pyplot as plt\n",
        "import pandas as pd"
      ],
      "execution_count": 0,
      "outputs": []
    },
    {
      "cell_type": "markdown",
      "metadata": {
        "id": "txo6XC1RTpYi",
        "colab_type": "text"
      },
      "source": [
        "Now you can read in your dataset by typing"
      ]
    },
    {
      "cell_type": "code",
      "metadata": {
        "id": "6v9ZZdR1Tq-K",
        "colab_type": "code",
        "colab": {}
      },
      "source": [
        "dataset = pd.read_csv('my_data.csv')"
      ],
      "execution_count": 0,
      "outputs": []
    },
    {
      "cell_type": "markdown",
      "metadata": {
        "id": "UZIUDVzOTsGq",
        "colab_type": "text"
      },
      "source": [
        "This tells Pandas (pd) to read in your dataset. These are the first few lines of the dataset I put together for this tutorial:"
      ]
    },
    {
      "cell_type": "code",
      "metadata": {
        "id": "-kRsg1xjT_gy",
        "colab_type": "code",
        "outputId": "9d910226-f508-4fcf-d3ea-d481f97fd0eb",
        "colab": {
          "base_uri": "https://localhost:8080/",
          "height": 359
        }
      },
      "source": [
        "dataset"
      ],
      "execution_count": 0,
      "outputs": [
        {
          "output_type": "execute_result",
          "data": {
            "text/html": [
              "<div>\n",
              "<style scoped>\n",
              "    .dataframe tbody tr th:only-of-type {\n",
              "        vertical-align: middle;\n",
              "    }\n",
              "\n",
              "    .dataframe tbody tr th {\n",
              "        vertical-align: top;\n",
              "    }\n",
              "\n",
              "    .dataframe thead th {\n",
              "        text-align: right;\n",
              "    }\n",
              "</style>\n",
              "<table border=\"1\" class=\"dataframe\">\n",
              "  <thead>\n",
              "    <tr style=\"text-align: right;\">\n",
              "      <th></th>\n",
              "      <th>Animal</th>\n",
              "      <th>Age</th>\n",
              "      <th>Worth</th>\n",
              "      <th>Friendly</th>\n",
              "    </tr>\n",
              "  </thead>\n",
              "  <tbody>\n",
              "    <tr>\n",
              "      <th>0</th>\n",
              "      <td>Cat</td>\n",
              "      <td>4.0</td>\n",
              "      <td>72000.0</td>\n",
              "      <td>No</td>\n",
              "    </tr>\n",
              "    <tr>\n",
              "      <th>1</th>\n",
              "      <td>Dog</td>\n",
              "      <td>17.0</td>\n",
              "      <td>48000.0</td>\n",
              "      <td>Yes</td>\n",
              "    </tr>\n",
              "    <tr>\n",
              "      <th>2</th>\n",
              "      <td>Moose</td>\n",
              "      <td>6.0</td>\n",
              "      <td>54000.0</td>\n",
              "      <td>No</td>\n",
              "    </tr>\n",
              "    <tr>\n",
              "      <th>3</th>\n",
              "      <td>Dog</td>\n",
              "      <td>8.0</td>\n",
              "      <td>61000.0</td>\n",
              "      <td>No</td>\n",
              "    </tr>\n",
              "    <tr>\n",
              "      <th>4</th>\n",
              "      <td>Moose</td>\n",
              "      <td>4.0</td>\n",
              "      <td>NaN</td>\n",
              "      <td>Yes</td>\n",
              "    </tr>\n",
              "    <tr>\n",
              "      <th>5</th>\n",
              "      <td>Cat</td>\n",
              "      <td>15.0</td>\n",
              "      <td>58000.0</td>\n",
              "      <td>Yes</td>\n",
              "    </tr>\n",
              "    <tr>\n",
              "      <th>6</th>\n",
              "      <td>Dog</td>\n",
              "      <td>NaN</td>\n",
              "      <td>52000.0</td>\n",
              "      <td>No</td>\n",
              "    </tr>\n",
              "    <tr>\n",
              "      <th>7</th>\n",
              "      <td>Cat</td>\n",
              "      <td>12.0</td>\n",
              "      <td>79000.0</td>\n",
              "      <td>Yes</td>\n",
              "    </tr>\n",
              "    <tr>\n",
              "      <th>8</th>\n",
              "      <td>Moose</td>\n",
              "      <td>5.0</td>\n",
              "      <td>83000.0</td>\n",
              "      <td>No</td>\n",
              "    </tr>\n",
              "    <tr>\n",
              "      <th>9</th>\n",
              "      <td>Cat</td>\n",
              "      <td>7.0</td>\n",
              "      <td>67000.0</td>\n",
              "      <td>Yes</td>\n",
              "    </tr>\n",
              "  </tbody>\n",
              "</table>\n",
              "</div>"
            ],
            "text/plain": [
              "  Animal   Age    Worth Friendly\n",
              "0    Cat   4.0  72000.0       No\n",
              "1    Dog  17.0  48000.0      Yes\n",
              "2  Moose   6.0  54000.0       No\n",
              "3    Dog   8.0  61000.0       No\n",
              "4  Moose   4.0      NaN      Yes\n",
              "5    Cat  15.0  58000.0      Yes\n",
              "6    Dog   NaN  52000.0       No\n",
              "7    Cat  12.0  79000.0      Yes\n",
              "8  Moose   5.0  83000.0       No\n",
              "9    Cat   7.0  67000.0      Yes"
            ]
          },
          "metadata": {
            "tags": []
          },
          "execution_count": 10
        }
      ]
    },
    {
      "cell_type": "markdown",
      "metadata": {
        "id": "ZtvFx--ZUAZy",
        "colab_type": "text"
      },
      "source": [
        "Now we have our dataset, but we need to create a matrix of dependent variables and a vector of independent variables. You can create the matrix of dependent variables by typing:"
      ]
    },
    {
      "cell_type": "code",
      "metadata": {
        "id": "-1jEfnrNUDJx",
        "colab_type": "code",
        "colab": {}
      },
      "source": [
        "X = dataset.iloc[:, :-1].values"
      ],
      "execution_count": 0,
      "outputs": []
    },
    {
      "cell_type": "markdown",
      "metadata": {
        "id": "G5pLSOuqUDqJ",
        "colab_type": "text"
      },
      "source": [
        "That first colon (:)means that we want to grab all of the lines in our dataset. :-1 means that we want to grab all of the columns of data except the last column. The **.values** on the end means that we want to grab all of the values.\n",
        "\n",
        "Now we want a vector of dependent variable with only the data from the last column, so we can type"
      ]
    },
    {
      "cell_type": "code",
      "metadata": {
        "id": "3B11wyycUSUh",
        "colab_type": "code",
        "colab": {}
      },
      "source": [
        "y = dataset.iloc[:, 3].values"
      ],
      "execution_count": 0,
      "outputs": []
    },
    {
      "cell_type": "markdown",
      "metadata": {
        "id": "Ci5329QqUWSZ",
        "colab_type": "text"
      },
      "source": [
        "Remember when you’re looking at your dataset, the index starts at 0. If you’re trying to count the columns, start counting at 0, not 1. [:, 3] gets you the animal, age, and worth columns. 0 is the animal column, 1 is the age column, and 2 is the worth. You will get used to this counting system if you aren’t already!\n",
        "\n",
        "**What happens if we have missing data?**\n",
        "\n",
        "This actually happens all the time.\n",
        "\n",
        "We could just remove the lines where data are missing, but that’s a really not the smartest idea. That could easily cause problems. We need to find a better idea! The most common solution is to take the mean of the columns to fill in the missing data point.\n",
        "\n",
        "You can easily do this with the imputer class from scikit-learn’s preprocessing model. If you don’t know about it already, scikit-learn contains amazing machine learning models and I strongly suggest you check it out!)\n",
        "\n",
        "You might not be comfortable with terms like “**method**,” “**class**,” and “**object**” as they apply to machine learning. Not a problem!\n",
        "\n",
        "A **class** is the model of something that we want to build. If we’re going to build a shed, the construction plan for the shed is the class.\n",
        "\n",
        "An **object** is an instance of the class. The object in this example is the shed we built by following the construction plan. There can be many objects of the same class. That’s like saying that you can make lots of sheds from the construction plan.\n",
        "\n",
        "A **method** is a tool that we can use on the object, or a function that’s applied to the object that takes some inputs and returns some output. This is like a handle that we can use to open the window when our shed is starting to get a little stuffy.\n",
        "\n",
        "To use the imputer, we would run something like this"
      ]
    },
    {
      "cell_type": "code",
      "metadata": {
        "id": "RjTXox7VUbyB",
        "colab_type": "code",
        "outputId": "73a67b01-dcd9-456d-92da-9b930d4932ed",
        "colab": {
          "base_uri": "https://localhost:8080/",
          "height": 71
        }
      },
      "source": [
        "from sklearn.preprocessing import Imputer\n",
        "imputer = Imputer(missing_values = np.nan, strategy = 'mean', axis = 0)"
      ],
      "execution_count": 0,
      "outputs": [
        {
          "output_type": "stream",
          "text": [
            "/usr/local/lib/python3.6/dist-packages/sklearn/utils/deprecation.py:66: DeprecationWarning: Class Imputer is deprecated; Imputer was deprecated in version 0.20 and will be removed in 0.22. Import impute.SimpleImputer from sklearn instead.\n",
            "  warnings.warn(msg, category=DeprecationWarning)\n"
          ],
          "name": "stderr"
        }
      ]
    },
    {
      "cell_type": "markdown",
      "metadata": {
        "id": "Za27ntsZUdcZ",
        "colab_type": "text"
      },
      "source": [
        "Mean is the default strategy, so you don’t actually need to specify that, but it’s here so you can get a sense of what information you want to include. The default values for missing_values is nan. If your data set has missing values that are called “NaN,” you‘ll stick with np.nan. [Check out the official documentation here](https://scikit-learn.org/stable/modules/generated/sklearn.impute.SimpleImputer.html)!\n",
        "\n",
        "Now to fit this imputer, we type"
      ]
    },
    {
      "cell_type": "code",
      "metadata": {
        "id": "awkI6CsIU9H4",
        "colab_type": "code",
        "colab": {}
      },
      "source": [
        "imputer = imputer.fit(X[:, 1:3])"
      ],
      "execution_count": 0,
      "outputs": []
    },
    {
      "cell_type": "markdown",
      "metadata": {
        "id": "Vg9FXXwvU-Qo",
        "colab_type": "text"
      },
      "source": [
        "We only want to fit the imputer to the columns where data are missing. The first colon means that we want to include all of the lines, while 1:3 means that we’re taking column indexes 1 and 2. Don’t worry. You’ll get used to the way Python counts in no time!\n",
        "\n",
        "Now we want to use the method that will actually replace the missing data. You’ll set that up by typing"
      ]
    },
    {
      "cell_type": "code",
      "metadata": {
        "id": "Q1VGl79LVB5G",
        "colab_type": "code",
        "outputId": "e1bfd2eb-393e-4d0e-8707-cff481f9ea90",
        "colab": {
          "base_uri": "https://localhost:8080/",
          "height": 187
        }
      },
      "source": [
        "X[:, 1:3] = imputer.transform(X[:, 1:3])\n",
        "X"
      ],
      "execution_count": 0,
      "outputs": [
        {
          "output_type": "execute_result",
          "data": {
            "text/plain": [
              "array([['Cat', 4.0, 72000.0],\n",
              "       ['Dog', 17.0, 48000.0],\n",
              "       ['Moose', 6.0, 54000.0],\n",
              "       ['Dog', 8.0, 61000.0],\n",
              "       ['Moose', 4.0, 63777.77777777778],\n",
              "       ['Cat', 15.0, 58000.0],\n",
              "       ['Dog', 8.666666666666666, 52000.0],\n",
              "       ['Cat', 12.0, 79000.0],\n",
              "       ['Moose', 5.0, 83000.0],\n",
              "       ['Cat', 7.0, 67000.0]], dtype=object)"
            ]
          },
          "metadata": {
            "tags": []
          },
          "execution_count": 15
        }
      ]
    },
    {
      "cell_type": "markdown",
      "metadata": {
        "id": "xck3zlcLVCV5",
        "colab_type": "text"
      },
      "source": [
        "Try this out with other strategies! You might find that it makes more sense for your project to fill in the missing values with the median of the column. Or the mode! Decisions like these seem small, but they actually hold a lot of importance.\n",
        "\n",
        "Just because something is popular doesn’t necessarily make it the right choice. The average (mean) of your data points isn’t necessarily the best choice for your model.\n",
        "\n",
        "After all, nearly everyone reading this article has an above average number of arms…\n",
        "\n",
        "**What if you have categorical data?**\n",
        "\n",
        "Great question! You can’t exactly take the mean of **cat**, **dog**, and **moose**. What can we do? We can encode the categorical values as numbers! You’ll want to grab the Label Encoder class from sklearn.preprocessing.\n",
        "\n",
        "Start with one column where you want to encode the data and call the label encoder. Then fit it onto your data"
      ]
    },
    {
      "cell_type": "code",
      "metadata": {
        "id": "5cnKqbTnVI6w",
        "colab_type": "code",
        "colab": {}
      },
      "source": [
        "from sklearn.preprocessing import LabelEncoder\n",
        "labelencoder_X = LabelEncoder()\n",
        "X[:, 0] = labelencoder_X.fit_transform(X[:, 0])"
      ],
      "execution_count": 0,
      "outputs": []
    },
    {
      "cell_type": "markdown",
      "metadata": {
        "id": "Py_1zi5GVUN5",
        "colab_type": "text"
      },
      "source": [
        "(Remember how the numbers in the brackets work? : means that we want to work with all of the lines and 0 means that we want to grab the first column.)\n",
        "\n",
        "That’s all it takes to replace the categorical variables in your first column with numbers. For example, instead of moose, you’ll have “0,” instead of “dog” you’ll have “2,” and instead of “cat,” you’d have “3.”\n",
        "\n",
        "**Do you see the potential problem?**\n",
        "\n",
        "That system of labeling implies a hierarchical value to the data that could affect your model. 3 has a higher value than 0, but cat is not (necessarily…) greater than moose.\n",
        "\n",
        "We need to create **dummy variables**!\n",
        "\n",
        "We can create one column for cat, one for moose, and so on. Then we’ll fill the columns in with 1s and 0s (think 1=yes and 0=no.) That means that if you had **cat** in your original column, now you’d have a 0 in the moose column, a 0 in the dog column, and a 1 in the cat column.\n",
        "\n",
        "That sounds complicated. Enter One Hot Encoder!\n",
        "\n",
        "Import the encoder and then specify the index of the column\n"
      ]
    },
    {
      "cell_type": "code",
      "metadata": {
        "id": "jujKc9msVjDF",
        "colab_type": "code",
        "colab": {}
      },
      "source": [
        "from sklearn.preprocessing import OneHotEncoder\n",
        "onehotencoder = OneHotEncoder(categorical_features = [0])"
      ],
      "execution_count": 0,
      "outputs": []
    },
    {
      "cell_type": "markdown",
      "metadata": {
        "id": "59o--qOoVjux",
        "colab_type": "text"
      },
      "source": [
        "Now a little fit and transform"
      ]
    },
    {
      "cell_type": "code",
      "metadata": {
        "id": "AofbU95nVlM4",
        "colab_type": "code",
        "outputId": "df7b1349-d8c2-426c-b3c4-3bb94a5ae957",
        "colab": {
          "base_uri": "https://localhost:8080/",
          "height": 139
        }
      },
      "source": [
        "X = onehotencoder.fit_transform(X).toarray()"
      ],
      "execution_count": 0,
      "outputs": [
        {
          "output_type": "stream",
          "text": [
            "/usr/local/lib/python3.6/dist-packages/sklearn/preprocessing/_encoders.py:415: FutureWarning: The handling of integer data will change in version 0.22. Currently, the categories are determined based on the range [0, max(values)], while in the future they will be determined based on the unique values.\n",
            "If you want the future behaviour and silence this warning, you can specify \"categories='auto'\".\n",
            "In case you used a LabelEncoder before this OneHotEncoder to convert the categories to integers, then you can now use the OneHotEncoder directly.\n",
            "  warnings.warn(msg, FutureWarning)\n",
            "/usr/local/lib/python3.6/dist-packages/sklearn/preprocessing/_encoders.py:451: DeprecationWarning: The 'categorical_features' keyword is deprecated in version 0.20 and will be removed in 0.22. You can use the ColumnTransformer instead.\n",
            "  \"use the ColumnTransformer instead.\", DeprecationWarning)\n"
          ],
          "name": "stderr"
        }
      ]
    },
    {
      "cell_type": "markdown",
      "metadata": {
        "id": "V_vLkknnVmvK",
        "colab_type": "text"
      },
      "source": [
        "Voila! Your single column has been replaced by one column for each of the categorical variables that you had in your original column and it has 1s and 0s replacing the categorical variables.\n",
        "\n",
        "Pretty sweet, right?\n",
        "\n",
        "We can go ahead and use label encoder for our y column if we have categorical variables like “yes” and “no.”"
      ]
    },
    {
      "cell_type": "code",
      "metadata": {
        "id": "q069VK2YVrBB",
        "colab_type": "code",
        "colab": {}
      },
      "source": [
        "labelencoder_y = LabelEncoder()\n",
        "y = labelencoder_y.fit_transform(y)"
      ],
      "execution_count": 0,
      "outputs": []
    },
    {
      "cell_type": "markdown",
      "metadata": {
        "id": "5tSHcdp0Vstg",
        "colab_type": "text"
      },
      "source": [
        "This will go ahead and fit and transform y into an encoded variable with 1 for yes and 0 for no."
      ]
    },
    {
      "cell_type": "code",
      "metadata": {
        "id": "bZA7HoOiVtEw",
        "colab_type": "code",
        "outputId": "2188012e-2e55-44b3-d6b4-e354d7744c81",
        "colab": {
          "base_uri": "https://localhost:8080/",
          "height": 357
        }
      },
      "source": [
        "X"
      ],
      "execution_count": 0,
      "outputs": [
        {
          "output_type": "execute_result",
          "data": {
            "text/plain": [
              "array([[1.00000000e+00, 0.00000000e+00, 0.00000000e+00, 4.00000000e+00,\n",
              "        7.20000000e+04],\n",
              "       [0.00000000e+00, 1.00000000e+00, 0.00000000e+00, 1.70000000e+01,\n",
              "        4.80000000e+04],\n",
              "       [0.00000000e+00, 0.00000000e+00, 1.00000000e+00, 6.00000000e+00,\n",
              "        5.40000000e+04],\n",
              "       [0.00000000e+00, 1.00000000e+00, 0.00000000e+00, 8.00000000e+00,\n",
              "        6.10000000e+04],\n",
              "       [0.00000000e+00, 0.00000000e+00, 1.00000000e+00, 4.00000000e+00,\n",
              "        6.37777778e+04],\n",
              "       [1.00000000e+00, 0.00000000e+00, 0.00000000e+00, 1.50000000e+01,\n",
              "        5.80000000e+04],\n",
              "       [0.00000000e+00, 1.00000000e+00, 0.00000000e+00, 8.66666667e+00,\n",
              "        5.20000000e+04],\n",
              "       [1.00000000e+00, 0.00000000e+00, 0.00000000e+00, 1.20000000e+01,\n",
              "        7.90000000e+04],\n",
              "       [0.00000000e+00, 0.00000000e+00, 1.00000000e+00, 5.00000000e+00,\n",
              "        8.30000000e+04],\n",
              "       [1.00000000e+00, 0.00000000e+00, 0.00000000e+00, 7.00000000e+00,\n",
              "        6.70000000e+04]])"
            ]
          },
          "metadata": {
            "tags": []
          },
          "execution_count": 20
        }
      ]
    },
    {
      "cell_type": "code",
      "metadata": {
        "id": "p5V5oXMbVyxo",
        "colab_type": "code",
        "outputId": "9c5d8c08-51a6-48a0-8a4a-f24f074ed994",
        "colab": {
          "base_uri": "https://localhost:8080/",
          "height": 34
        }
      },
      "source": [
        "y"
      ],
      "execution_count": 0,
      "outputs": [
        {
          "output_type": "execute_result",
          "data": {
            "text/plain": [
              "array([0, 1, 0, 0, 1, 1, 0, 1, 0, 1])"
            ]
          },
          "metadata": {
            "tags": []
          },
          "execution_count": 21
        }
      ]
    },
    {
      "cell_type": "markdown",
      "metadata": {
        "id": "5WlYHyiwV0kP",
        "colab_type": "text"
      },
      "source": [
        "**Train test split**\n",
        "At this point, you can go ahead and split your data into training and testing sets.[ I know I already said this in the image classification tutoria](https://towardsdatascience.com/wtf-is-image-classification-8e78a8235acb)l, but always separate your data into training and testing sets and never use your testing data for training! You need to avoid overfitting. (You can think of overfitting like memorizing super specific details before a test without understanding the information. When you memorize details, you’ll do a great job with your flashcards at home. You’ll fail any real test, though, where you’re presented with new information.)\n",
        "\n",
        "Right now, we have a machine that needs to learn something. It needs to train on data and see how well it understands what it’s learned on separate data. Memorizing the training set is not the same thing as learning! The better your model learns on the training set, the better it will be at predicting the results for the testing set. You never want to overfit your model. You really want it to learn!\n",
        "\n",
        "\n",
        "First, we import\n"
      ]
    },
    {
      "cell_type": "code",
      "metadata": {
        "id": "ekgZu7-VWBPn",
        "colab_type": "code",
        "colab": {}
      },
      "source": [
        "from sklearn.model_selection import train_test_split"
      ],
      "execution_count": 0,
      "outputs": []
    },
    {
      "cell_type": "markdown",
      "metadata": {
        "id": "yRgcHR5XWCwf",
        "colab_type": "text"
      },
      "source": [
        "Now we can create X_train and X_test and y_train and y_test sets."
      ]
    },
    {
      "cell_type": "code",
      "metadata": {
        "id": "mpnMu6zlWELP",
        "colab_type": "code",
        "colab": {}
      },
      "source": [
        "X_train, X_test, y_train, y_test = train_test_split(X, y, test_size = 0.2, random_state = 0)"
      ],
      "execution_count": 0,
      "outputs": []
    },
    {
      "cell_type": "markdown",
      "metadata": {
        "id": "4ANjPyhBWGH_",
        "colab_type": "text"
      },
      "source": [
        "It’s very common to do an 80/20 split of your data, with 80% of your data going to training and 20% to testing. That’s why we specified a test_size of 0.2. You can split it however you need to. You don’t need to set a random state, but I like to do that so that we can exactly reproduce our results.\n",
        "\n",
        "**Now for feature scaling.**\n",
        "\n",
        "What is feature scaling? Why do we need it?\n",
        "\n",
        "Well, look at our data. We have one column with animal ages from 4–17 and we have animal worth that ranges from $48,000-$83,000. Not only is the worth column made up of much higher numbers than the age column, but the variables also cover a much wider range of data. That means that the Euclidean distance will be dominated by **worth** and will wind up dominating the **age** data.\n",
        "\n",
        "What if Euclidean distance doesn’t play a part in your specific machine learning model? Scaling the features will still make the model much faster, so you might want to include this step when you’re preprocessing your data.\n",
        "\n",
        "There are many ways to do feature scaling. They all mean that we’re putting all of our features into the same scale so that none are dominated by another.\n",
        "\n",
        "Start with the import (you must be getting used to that)"
      ]
    },
    {
      "cell_type": "code",
      "metadata": {
        "id": "stUN1H2HWT_v",
        "colab_type": "code",
        "colab": {}
      },
      "source": [
        "from sklearn.preprocessing import StandardScaler"
      ],
      "execution_count": 0,
      "outputs": []
    },
    {
      "cell_type": "markdown",
      "metadata": {
        "id": "kniza7xlWUoP",
        "colab_type": "text"
      },
      "source": [
        "Then create an object that we’ll scale and call the standard scaler"
      ]
    },
    {
      "cell_type": "code",
      "metadata": {
        "id": "O13zmbhtWWL2",
        "colab_type": "code",
        "colab": {}
      },
      "source": [
        "sc_X = StandardScaler()"
      ],
      "execution_count": 0,
      "outputs": []
    },
    {
      "cell_type": "markdown",
      "metadata": {
        "id": "cLenBwLnWYeP",
        "colab_type": "text"
      },
      "source": [
        "Now we directly fit and transform our dataset. Grab the object and apply the methods."
      ]
    },
    {
      "cell_type": "code",
      "metadata": {
        "id": "55X_eBFaWaPG",
        "colab_type": "code",
        "colab": {}
      },
      "source": [
        "X_train = sc_X.fit_transform(X_train)\n",
        "X_test = sc_X.transform(X_test)"
      ],
      "execution_count": 0,
      "outputs": []
    },
    {
      "cell_type": "markdown",
      "metadata": {
        "id": "CSrql2fMWcDm",
        "colab_type": "text"
      },
      "source": [
        "We don’t need to fit it to our test set, we just need a transform."
      ]
    },
    {
      "cell_type": "code",
      "metadata": {
        "id": "_YMuIF6jWcdN",
        "colab_type": "code",
        "colab": {}
      },
      "source": [
        "sc_y = StandardScaler()\n",
        "#y_train = sc_y.fit_transform(y_train)"
      ],
      "execution_count": 0,
      "outputs": []
    },
    {
      "cell_type": "markdown",
      "metadata": {
        "id": "KdME31ocWdou",
        "colab_type": "text"
      },
      "source": [
        "**What about the dummy variables? Do you need to scale them?**\n",
        "\n",
        "Well, some people say yes and some say no. It’s a question of how much you want to hang on to your interpretation. It is good to have all of our data at the same scale. But if we scale our data, we lose our ability to easily interpret which observations belong to which variable.\n",
        "\n",
        "What about y? If you have a dependent variable like 0 and 1, you really don’t need to apply feature scaling. It’s a classification problem with a categorically dependent value. But if you have a large range of feature values, then yes! You do want to apply the scaler!\n",
        "\n",
        "**You did it!**\n",
        "\n",
        "That’s it!\n",
        "\n",
        "With just a handful of lines of code, you’ve taken care of the basics of data cleaning and preprocessing! [You can see the code here](https://github.com/bonn0062/basic_data_preprocessing) if want to take a look.\n",
        "\n",
        "There will definitely be a ton of thought that you’ll need to put into this step. You want to think about exactly how you’re going to fill in your missing data. Consider whether you need to scale your features and how you want to do it. Dummy variables or no? Are you going to encode your data? Will you encode your dummy variables? There are a ton of details to consider here.\n",
        "\n",
        "That said, you’ve got this!\n",
        "\n",
        "Now get out there and get that data ready!\n",
        "\n",
        "As always, if you’re doing anything cool with this information, let people know about it in the responses below or reach out any time on LinkedIn [@annebonnerdata](https://www.linkedin.com/in/annebonnerdata/)!\n",
        "\n",
        "If you liked this, you might be interested in some of my other articles as well:"
      ]
    }
  ]
}